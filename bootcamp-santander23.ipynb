{
 "cells": [
  {
   "cell_type": "markdown",
   "metadata": {},
   "source": [
    "![logo](https://github.com/jeanmatheuss/SB-2023-python/blob/main/imgs/logo.jpg?raw=true)\n",
    "\n",
    "---\n",
    "## **Projeto 1** | Explorando IA Generativa em Pipeline de ETL com Python\n",
    "[Jean Matheus](https://www.linkedin.com/in/jean-matheus-sm/)\n",
    "\n",
    "---\n"
   ]
  },
  {
   "cell_type": "markdown",
   "metadata": {},
   "source": [
    "# Personalização de Mensagens de Marketing com IA Generativa"
   ]
  },
  {
   "cell_type": "markdown",
   "metadata": {},
   "source": [
    "## Descrição\n",
    "Este projeto foi desenvolvido como parte do Santander Bootcamp 2023 - Ciência de Dados com Python, com o obejtivo de envovler os clientes de maneira mais personalizada usando o poder da Inteligência Artificial Generativa."
   ]
  },
  {
   "cell_type": "markdown",
   "metadata": {},
   "source": [
    "## Contexto\n",
    "Como cientista de dados no Santander, nossa tarefa era melhorar o envolvimento dos clientes por meio de mensagens de marketing altamente personalizadas.    \n",
    "O objetivo é utilizar  a Inteligência Artificial Generativa para criar mensagens que ressoem com cada cliente individualmente.\n",
    "\n",
    "Aqui estão as estapas que seguiremos:\n",
    "1. Extração de Dados\n",
    "2. Obtenção de Dados  dos Clientes\n",
    "3. Transformação de Dados\n",
    "4. Geração de Mensagens Personalizadas\n",
    "5. Atualização de Dados dos Clientes"
   ]
  },
  {
   "cell_type": "markdown",
   "metadata": {},
   "source": [
    "### Pacotes e Bibliotecas"
   ]
  },
  {
   "cell_type": "code",
   "execution_count": 1,
   "metadata": {},
   "outputs": [],
   "source": [
    "import json\n",
    "import pandas as pd\n",
    "import seaborn as sns\n",
    "import numpy as np\n",
    "import requests"
   ]
  },
  {
   "cell_type": "code",
   "execution_count": null,
   "metadata": {},
   "outputs": [],
   "source": [
    "# Criando DF a partir do arquivo SDW2023-1 baixado diretamente da API\n",
    "\n",
    "df = pd.read_json('SDW2023-1.json')"
   ]
  },
  {
   "cell_type": "code",
   "execution_count": 2,
   "metadata": {},
   "outputs": [],
   "source": [
    "# URL da API para a consulta dos clientes\n",
    "\n",
    "url = 'https://sdw-2023-prd.up.railway.app'"
   ]
  },
  {
   "cell_type": "code",
   "execution_count": 3,
   "metadata": {},
   "outputs": [],
   "source": [
    "# Criando DF diretamente da API\n",
    "\n",
    "response = requests.get(f'{url}/users')\n",
    "clients = response.json() if response.status_code == 200 else None\n",
    "clients_df = pd.DataFrame(clients)"
   ]
  },
  {
   "cell_type": "code",
   "execution_count": 4,
   "metadata": {},
   "outputs": [
    {
     "name": "stdout",
     "output_type": "stream",
     "text": [
      "<class 'pandas.core.frame.DataFrame'>\n",
      "RangeIndex: 951 entries, 0 to 950\n",
      "Data columns (total 6 columns):\n",
      " #   Column    Non-Null Count  Dtype \n",
      "---  ------    --------------  ----- \n",
      " 0   id        951 non-null    int64 \n",
      " 1   name      949 non-null    object\n",
      " 2   account   949 non-null    object\n",
      " 3   card      949 non-null    object\n",
      " 4   features  951 non-null    object\n",
      " 5   news      951 non-null    object\n",
      "dtypes: int64(1), object(5)\n",
      "memory usage: 44.7+ KB\n"
     ]
    }
   ],
   "source": [
    "clients_df.info()"
   ]
  },
  {
   "cell_type": "markdown",
   "metadata": {},
   "source": [
    "> Como usaremos esse projeto apenas para demonstração, usar o *clientes_df* ficaria inviável pois são quase 1400 clientes fictícios e como a API do ChatGPT que irá gerar a mensagem não é gratuíta, vamos usar apenas os 5 prmeiros clientes."
   ]
  },
  {
   "cell_type": "code",
   "execution_count": 12,
   "metadata": {},
   "outputs": [],
   "source": [
    "clients_df = clients_df.sort_values(by='id', ascending=True)"
   ]
  },
  {
   "cell_type": "code",
   "execution_count": 5,
   "metadata": {},
   "outputs": [
    {
     "data": {
      "text/html": [
       "<div>\n",
       "<style scoped>\n",
       "    .dataframe tbody tr th:only-of-type {\n",
       "        vertical-align: middle;\n",
       "    }\n",
       "\n",
       "    .dataframe tbody tr th {\n",
       "        vertical-align: top;\n",
       "    }\n",
       "\n",
       "    .dataframe thead th {\n",
       "        text-align: right;\n",
       "    }\n",
       "</style>\n",
       "<table border=\"1\" class=\"dataframe\">\n",
       "  <thead>\n",
       "    <tr style=\"text-align: right;\">\n",
       "      <th></th>\n",
       "      <th>id</th>\n",
       "      <th>name</th>\n",
       "      <th>account</th>\n",
       "      <th>card</th>\n",
       "      <th>features</th>\n",
       "      <th>news</th>\n",
       "    </tr>\n",
       "  </thead>\n",
       "  <tbody>\n",
       "    <tr>\n",
       "      <th>0</th>\n",
       "      <td>3210</td>\n",
       "      <td>None</td>\n",
       "      <td>None</td>\n",
       "      <td>None</td>\n",
       "      <td>[]</td>\n",
       "      <td>[{'id': 6736, 'icon': 'string', 'description':...</td>\n",
       "    </tr>\n",
       "    <tr>\n",
       "      <th>1</th>\n",
       "      <td>3334</td>\n",
       "      <td>Marcos</td>\n",
       "      <td>{'id': 3538, 'number': '00003-1', 'agency': '0...</td>\n",
       "      <td>{'id': 3228, 'number': '**** **** **** 1236', ...</td>\n",
       "      <td>[{'id': 1030, 'icon': 'string', 'description':...</td>\n",
       "      <td>[{'id': 6773, 'icon': 'string', 'description':...</td>\n",
       "    </tr>\n",
       "    <tr>\n",
       "      <th>2</th>\n",
       "      <td>3335</td>\n",
       "      <td>João</td>\n",
       "      <td>{'id': 3539, 'number': '00004-1', 'agency': '0...</td>\n",
       "      <td>{'id': 3229, 'number': '**** **** **** 1237', ...</td>\n",
       "      <td>[{'id': 1031, 'icon': 'string', 'description':...</td>\n",
       "      <td>[{'id': 6774, 'icon': 'string', 'description':...</td>\n",
       "    </tr>\n",
       "    <tr>\n",
       "      <th>3</th>\n",
       "      <td>1</td>\n",
       "      <td>Devweekerson</td>\n",
       "      <td>{'id': 1, 'number': '01.097954-4', 'agency': '...</td>\n",
       "      <td>{'id': 1, 'number': 'xxxx xxxx xxxx 1111', 'li...</td>\n",
       "      <td>[{'id': 1, 'icon': 'https://digitalinnovationo...</td>\n",
       "      <td>[{'id': 1, 'icon': 'https://digitalinnovationo...</td>\n",
       "    </tr>\n",
       "    <tr>\n",
       "      <th>4</th>\n",
       "      <td>3368</td>\n",
       "      <td>Alfonso</td>\n",
       "      <td>{'id': 3578, 'number': '12001-1', 'agency': '0...</td>\n",
       "      <td>{'id': 3264, 'number': '**** **** **** 1851', ...</td>\n",
       "      <td>[]</td>\n",
       "      <td>[]</td>\n",
       "    </tr>\n",
       "  </tbody>\n",
       "</table>\n",
       "</div>"
      ],
      "text/plain": [
       "     id          name                                            account  \\\n",
       "0  3210          None                                               None   \n",
       "1  3334        Marcos  {'id': 3538, 'number': '00003-1', 'agency': '0...   \n",
       "2  3335          João  {'id': 3539, 'number': '00004-1', 'agency': '0...   \n",
       "3     1  Devweekerson  {'id': 1, 'number': '01.097954-4', 'agency': '...   \n",
       "4  3368       Alfonso  {'id': 3578, 'number': '12001-1', 'agency': '0...   \n",
       "\n",
       "                                                card  \\\n",
       "0                                               None   \n",
       "1  {'id': 3228, 'number': '**** **** **** 1236', ...   \n",
       "2  {'id': 3229, 'number': '**** **** **** 1237', ...   \n",
       "3  {'id': 1, 'number': 'xxxx xxxx xxxx 1111', 'li...   \n",
       "4  {'id': 3264, 'number': '**** **** **** 1851', ...   \n",
       "\n",
       "                                            features  \\\n",
       "0                                                 []   \n",
       "1  [{'id': 1030, 'icon': 'string', 'description':...   \n",
       "2  [{'id': 1031, 'icon': 'string', 'description':...   \n",
       "3  [{'id': 1, 'icon': 'https://digitalinnovationo...   \n",
       "4                                                 []   \n",
       "\n",
       "                                                news  \n",
       "0  [{'id': 6736, 'icon': 'string', 'description':...  \n",
       "1  [{'id': 6773, 'icon': 'string', 'description':...  \n",
       "2  [{'id': 6774, 'icon': 'string', 'description':...  \n",
       "3  [{'id': 1, 'icon': 'https://digitalinnovationo...  \n",
       "4                                                 []  "
      ]
     },
     "execution_count": 5,
     "metadata": {},
     "output_type": "execute_result"
    }
   ],
   "source": [
    "clients_df = clients_df.head()\n",
    "clients_df"
   ]
  },
  {
   "cell_type": "markdown",
   "metadata": {},
   "source": [
    "## Não necessários no momento"
   ]
  },
  {
   "cell_type": "code",
   "execution_count": 15,
   "metadata": {},
   "outputs": [
    {
     "data": {
      "text/plain": [
       "[1, 13, 14, 15, 17]"
      ]
     },
     "execution_count": 15,
     "metadata": {},
     "output_type": "execute_result"
    }
   ],
   "source": [
    "lista_id = clients_df['id'].to_list()\n",
    "lista_id"
   ]
  },
  {
   "cell_type": "code",
   "execution_count": 14,
   "metadata": {},
   "outputs": [
    {
     "data": {
      "text/html": [
       "<div>\n",
       "<style scoped>\n",
       "    .dataframe tbody tr th:only-of-type {\n",
       "        vertical-align: middle;\n",
       "    }\n",
       "\n",
       "    .dataframe tbody tr th {\n",
       "        vertical-align: top;\n",
       "    }\n",
       "\n",
       "    .dataframe thead th {\n",
       "        text-align: right;\n",
       "    }\n",
       "</style>\n",
       "<table border=\"1\" class=\"dataframe\">\n",
       "  <thead>\n",
       "    <tr style=\"text-align: right;\">\n",
       "      <th></th>\n",
       "      <th>id</th>\n",
       "      <th>number</th>\n",
       "      <th>agency</th>\n",
       "      <th>balance</th>\n",
       "      <th>limit</th>\n",
       "    </tr>\n",
       "  </thead>\n",
       "  <tbody>\n",
       "    <tr>\n",
       "      <th>0</th>\n",
       "      <td>1</td>\n",
       "      <td>01.097954-4</td>\n",
       "      <td>2030</td>\n",
       "      <td>624.12</td>\n",
       "      <td>1000.0</td>\n",
       "    </tr>\n",
       "    <tr>\n",
       "      <th>1</th>\n",
       "      <td>20</td>\n",
       "      <td>00010-8</td>\n",
       "      <td>2003</td>\n",
       "      <td>500.00</td>\n",
       "      <td>1000.0</td>\n",
       "    </tr>\n",
       "    <tr>\n",
       "      <th>2</th>\n",
       "      <td>21</td>\n",
       "      <td>00110-2</td>\n",
       "      <td>2003</td>\n",
       "      <td>500.00</td>\n",
       "      <td>1000.0</td>\n",
       "    </tr>\n",
       "    <tr>\n",
       "      <th>3</th>\n",
       "      <td>22</td>\n",
       "      <td>0001-1</td>\n",
       "      <td>0001</td>\n",
       "      <td>0.00</td>\n",
       "      <td>500.0</td>\n",
       "    </tr>\n",
       "    <tr>\n",
       "      <th>4</th>\n",
       "      <td>905</td>\n",
       "      <td>**** **** **45</td>\n",
       "      <td>Banku</td>\n",
       "      <td>0.00</td>\n",
       "      <td>0.0</td>\n",
       "    </tr>\n",
       "  </tbody>\n",
       "</table>\n",
       "</div>"
      ],
      "text/plain": [
       "    id          number agency  balance   limit\n",
       "0    1     01.097954-4   2030   624.12  1000.0\n",
       "1   20         00010-8   2003   500.00  1000.0\n",
       "2   21         00110-2   2003   500.00  1000.0\n",
       "3   22          0001-1   0001     0.00   500.0\n",
       "4  905  **** **** **45  Banku     0.00     0.0"
      ]
     },
     "execution_count": 14,
     "metadata": {},
     "output_type": "execute_result"
    }
   ],
   "source": [
    "# Flatten da coluna account\n",
    "clients_account = pd.json_normalize(clients_df['account'])\n",
    "clients_account"
   ]
  },
  {
   "cell_type": "code",
   "execution_count": 15,
   "metadata": {},
   "outputs": [
    {
     "data": {
      "text/html": [
       "<div>\n",
       "<style scoped>\n",
       "    .dataframe tbody tr th:only-of-type {\n",
       "        vertical-align: middle;\n",
       "    }\n",
       "\n",
       "    .dataframe tbody tr th {\n",
       "        vertical-align: top;\n",
       "    }\n",
       "\n",
       "    .dataframe thead th {\n",
       "        text-align: right;\n",
       "    }\n",
       "</style>\n",
       "<table border=\"1\" class=\"dataframe\">\n",
       "  <thead>\n",
       "    <tr style=\"text-align: right;\">\n",
       "      <th></th>\n",
       "      <th>id</th>\n",
       "      <th>number</th>\n",
       "      <th>limit</th>\n",
       "    </tr>\n",
       "  </thead>\n",
       "  <tbody>\n",
       "    <tr>\n",
       "      <th>0</th>\n",
       "      <td>1</td>\n",
       "      <td>xxxx xxxx xxxx 1111</td>\n",
       "      <td>2000.0</td>\n",
       "    </tr>\n",
       "    <tr>\n",
       "      <th>1</th>\n",
       "      <td>13</td>\n",
       "      <td>**** **** **** 0112</td>\n",
       "      <td>500.0</td>\n",
       "    </tr>\n",
       "    <tr>\n",
       "      <th>2</th>\n",
       "      <td>14</td>\n",
       "      <td>**** **** **** 0322</td>\n",
       "      <td>500.0</td>\n",
       "    </tr>\n",
       "    <tr>\n",
       "      <th>3</th>\n",
       "      <td>15</td>\n",
       "      <td>1234 1234 1234 1111</td>\n",
       "      <td>1000.0</td>\n",
       "    </tr>\n",
       "    <tr>\n",
       "      <th>4</th>\n",
       "      <td>836</td>\n",
       "      <td>**** **** **67</td>\n",
       "      <td>0.0</td>\n",
       "    </tr>\n",
       "  </tbody>\n",
       "</table>\n",
       "</div>"
      ],
      "text/plain": [
       "    id               number   limit\n",
       "0    1  xxxx xxxx xxxx 1111  2000.0\n",
       "1   13  **** **** **** 0112   500.0\n",
       "2   14  **** **** **** 0322   500.0\n",
       "3   15  1234 1234 1234 1111  1000.0\n",
       "4  836       **** **** **67     0.0"
      ]
     },
     "execution_count": 15,
     "metadata": {},
     "output_type": "execute_result"
    }
   ],
   "source": [
    "# Flatten da coluna card\n",
    "clients_card = pd.json_normalize(clients_df['card'])\n",
    "clients_card"
   ]
  },
  {
   "cell_type": "code",
   "execution_count": 35,
   "metadata": {},
   "outputs": [
    {
     "data": {
      "text/plain": [
       "'leonardo fogaca'"
      ]
     },
     "execution_count": 35,
     "metadata": {},
     "output_type": "execute_result"
    }
   ],
   "source": [
    "teste = clients[0]\n",
    "teste['name']"
   ]
  },
  {
   "cell_type": "markdown",
   "metadata": {},
   "source": [
    "## Voltando"
   ]
  },
  {
   "cell_type": "code",
   "execution_count": 6,
   "metadata": {},
   "outputs": [],
   "source": [
    "# API ChatGpt\n",
    "import os\n",
    "from getpass import getpass\n",
    "\n",
    "api_key = getpass()\n"
   ]
  },
  {
   "cell_type": "code",
   "execution_count": 30,
   "metadata": {},
   "outputs": [
    {
     "name": "stdout",
     "output_type": "stream",
     "text": [
      "Maximize seu potencial financeiro e conquiste seus objetivos através dos investimentos. Seu futuro começa agora! 💰📈 #invista\n",
      "João, seus investimentos podem transformar seus sonhos em realidade. Aproveite essa oportunidade única! #invistaagora\n",
      "Invista para o futuro! Seus 1000.0 podem se transformar em muito mais com as opções certas de investimento. Não deixe seu dinheiro parado! #Investimentos #Futuro\n"
     ]
    }
   ],
   "source": [
    "import openai\n",
    "import time\n",
    "\n",
    "openai.api_key = api_key\n",
    "\n",
    "def gerenate_ai_news(user, limit):\n",
    "    completion = openai.ChatCompletion.create(\n",
    "        model=\"gpt-3.5-turbo\",\n",
    "        messages=[\n",
    "            {\n",
    "                \"role\": \"system\",\n",
    "                \"content\": \"Você é um especialista em marketing bancário.\"\n",
    "            },\n",
    "            {\n",
    "                \"role\": \"user\",\n",
    "                \"content\": f\"Crie uma mensagem para {user['name']} sobre a importância dos investimentos, que possuí {limit['limit']} (máximo 140 caracteres)\"\n",
    "            }\n",
    "        ]\n",
    "    )\n",
    "    return completion.choices[0].message.content.strip('\\\"')\n",
    "\n",
    "\n",
    "for user in clients[1:4]:\n",
    "    limit = user['account']\n",
    "    news = gerenate_ai_news(user, limit)\n",
    "    print(news)\n",
    "    user['news'].append({\n",
    "        \"icon\": \"https://raw.githubusercontent.com/digitalinnovationone/santander-dev-week-2023-api/665804c8231b32923b03b30ab832ccee33cf2cc3/docs/icons/account.svg\",\n",
    "        \"description\": news\n",
    "    })\n",
    "\n",
    "# introduzindo o atraso nas solicitações devido a assinatura OpenAI\n",
    "\n",
    "    time.sleep(60 / 3)"
   ]
  },
  {
   "cell_type": "code",
   "execution_count": 31,
   "metadata": {},
   "outputs": [
    {
     "data": {
      "text/plain": [
       "{'id': 3334,\n",
       " 'name': 'Marcos',\n",
       " 'account': {'id': 3538,\n",
       "  'number': '00003-1',\n",
       "  'agency': '0001',\n",
       "  'balance': 0.0,\n",
       "  'limit': 2000.0},\n",
       " 'card': {'id': 3228, 'number': '**** **** **** 1236', 'limit': 2000.0},\n",
       " 'features': [{'id': 1030, 'icon': 'string', 'description': 'string'}],\n",
       " 'news': [{'id': 6773, 'icon': 'string', 'description': 'string'},\n",
       "  {'icon': 'https://raw.githubusercontent.com/digitalinnovationone/santander-dev-week-2023-api/665804c8231b32923b03b30ab832ccee33cf2cc3/docs/icons/account.svg',\n",
       "   'description': 'Maximize seu potencial financeiro e conquiste seus objetivos através dos investimentos. Seu futuro começa agora! 💰📈 #invista'}]}"
      ]
     },
     "execution_count": 31,
     "metadata": {},
     "output_type": "execute_result"
    }
   ],
   "source": [
    "clients[1]"
   ]
  },
  {
   "cell_type": "code",
   "execution_count": null,
   "metadata": {},
   "outputs": [],
   "source": []
  }
 ],
 "metadata": {
  "kernelspec": {
   "display_name": "Python 3",
   "language": "python",
   "name": "python3"
  },
  "language_info": {
   "codemirror_mode": {
    "name": "ipython",
    "version": 3
   },
   "file_extension": ".py",
   "mimetype": "text/x-python",
   "name": "python",
   "nbconvert_exporter": "python",
   "pygments_lexer": "ipython3",
   "version": "3.10.11"
  },
  "orig_nbformat": 4
 },
 "nbformat": 4,
 "nbformat_minor": 2
}
