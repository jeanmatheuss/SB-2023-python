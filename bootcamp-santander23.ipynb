{
 "cells": [
  {
   "cell_type": "markdown",
   "metadata": {},
   "source": [
    "![logo](https://github.com/jeanmatheuss/SB-2023-python/blob/main/imgs/logo.jpg?raw=true)\n",
    "\n",
    "---\n",
    "## **Projeto 1** | Explorando IA Generativa em Pipeline de ETL com Python\n",
    "[Jean Matheus](https://www.linkedin.com/in/jean-matheus-sm/)\n",
    "\n",
    "---\n"
   ]
  },
  {
   "cell_type": "markdown",
   "metadata": {},
   "source": [
    "# Personalização de Mensagens de Marketing com IA Generativa"
   ]
  },
  {
   "cell_type": "markdown",
   "metadata": {},
   "source": [
    "## Descrição\n",
    "Este projeto foi desenvolvido como parte do Santander Bootcamp 2023 - Ciência de Dados com Python, com o obejtivo de envovler os clientes de maneira mais personalizada usando o poder da Inteligência Artificial Generativa."
   ]
  },
  {
   "cell_type": "markdown",
   "metadata": {},
   "source": [
    "## Contexto\n",
    "Como cientista de dados no Santander, nossa tarefa era melhorar o envolvimento dos clientes por meio de mensagens de marketing altamente personalizadas.    \n",
    "O objetivo é utilizar  a Inteligência Artificial Generativa para criar mensagens que ressoem com cada cliente individualmente.\n",
    "\n",
    "Aqui estão as estapas que seguiremos:\n",
    "1. Extração de Dados\n",
    "2. Obtenção de Dados  dos Clientes\n",
    "3. Transformação de Dados\n",
    "4. Geração de Mensagens Personalizadas\n",
    "5. Atualização de Dados dos Clientes"
   ]
  },
  {
   "cell_type": "markdown",
   "metadata": {},
   "source": [
    "### Pacotes e Bibliotecas"
   ]
  },
  {
   "cell_type": "code",
   "execution_count": 19,
   "metadata": {},
   "outputs": [],
   "source": [
    "import json\n",
    "import pandas as pd\n",
    "import seaborn as sns\n",
    "import numpy as np\n",
    "import requests"
   ]
  },
  {
   "cell_type": "code",
   "execution_count": null,
   "metadata": {},
   "outputs": [],
   "source": [
    "# Criando DF a partir do arquivo SDW2023-1 baixado diretamente da API\n",
    "\n",
    "df = pd.read_json('SDW2023-1.json')"
   ]
  },
  {
   "cell_type": "code",
   "execution_count": 2,
   "metadata": {},
   "outputs": [],
   "source": [
    "# URL da API para a consulta dos clientes\n",
    "\n",
    "url = 'https://sdw-2023-prd.up.railway.app'"
   ]
  },
  {
   "cell_type": "code",
   "execution_count": 11,
   "metadata": {},
   "outputs": [],
   "source": [
    "# Criando DF diretamente da API\n",
    "\n",
    "response = requests.get(f'{url}/users')\n",
    "clients = response.json() if response.status_code == 200 else None\n",
    "clients_df = pd.DataFrame(clients)"
   ]
  },
  {
   "cell_type": "code",
   "execution_count": 4,
   "metadata": {},
   "outputs": [
    {
     "name": "stdout",
     "output_type": "stream",
     "text": [
      "<class 'pandas.core.frame.DataFrame'>\n",
      "RangeIndex: 2060 entries, 0 to 2059\n",
      "Data columns (total 6 columns):\n",
      " #   Column    Non-Null Count  Dtype \n",
      "---  ------    --------------  ----- \n",
      " 0   id        2060 non-null   int64 \n",
      " 1   name      2060 non-null   object\n",
      " 2   account   2060 non-null   object\n",
      " 3   card      2060 non-null   object\n",
      " 4   features  2060 non-null   object\n",
      " 5   news      2060 non-null   object\n",
      "dtypes: int64(1), object(5)\n",
      "memory usage: 96.7+ KB\n"
     ]
    }
   ],
   "source": [
    "clients_df.info()"
   ]
  },
  {
   "cell_type": "markdown",
   "metadata": {},
   "source": [
    "> Como usaremos esse projeto apenas para demonstração, usar o *clientes_df* ficaria inviável pois são quase 1400 clientes fictícios e como a API do ChatGPT que irá gerar a mensagem não é gratuíta, vamos usar apenas os 5 prmeiros clientes."
   ]
  },
  {
   "cell_type": "code",
   "execution_count": 12,
   "metadata": {},
   "outputs": [],
   "source": [
    "clients_df = clients_df.sort_values(by='id', ascending=True)"
   ]
  },
  {
   "cell_type": "code",
   "execution_count": 14,
   "metadata": {},
   "outputs": [
    {
     "data": {
      "text/html": [
       "<div>\n",
       "<style scoped>\n",
       "    .dataframe tbody tr th:only-of-type {\n",
       "        vertical-align: middle;\n",
       "    }\n",
       "\n",
       "    .dataframe tbody tr th {\n",
       "        vertical-align: top;\n",
       "    }\n",
       "\n",
       "    .dataframe thead th {\n",
       "        text-align: right;\n",
       "    }\n",
       "</style>\n",
       "<table border=\"1\" class=\"dataframe\">\n",
       "  <thead>\n",
       "    <tr style=\"text-align: right;\">\n",
       "      <th></th>\n",
       "      <th>id</th>\n",
       "      <th>name</th>\n",
       "      <th>account</th>\n",
       "      <th>card</th>\n",
       "      <th>features</th>\n",
       "      <th>news</th>\n",
       "    </tr>\n",
       "  </thead>\n",
       "  <tbody>\n",
       "    <tr>\n",
       "      <th>6</th>\n",
       "      <td>1</td>\n",
       "      <td>Devweekerson</td>\n",
       "      <td>{'id': 1, 'number': '01.097954-4', 'agency': '...</td>\n",
       "      <td>{'id': 1, 'number': 'xxxx xxxx xxxx 1111', 'li...</td>\n",
       "      <td>[{'id': 1, 'icon': 'https://digitalinnovationo...</td>\n",
       "      <td>[{'id': 1, 'icon': 'https://digitalinnovationo...</td>\n",
       "    </tr>\n",
       "    <tr>\n",
       "      <th>10</th>\n",
       "      <td>13</td>\n",
       "      <td>anguile</td>\n",
       "      <td>{'id': 20, 'number': '00010-8', 'agency': '200...</td>\n",
       "      <td>{'id': 13, 'number': '**** **** **** 0112', 'l...</td>\n",
       "      <td>[{'id': 10, 'icon': 'string', 'description': '...</td>\n",
       "      <td>[{'id': 24, 'icon': 'string', 'description': '...</td>\n",
       "    </tr>\n",
       "    <tr>\n",
       "      <th>11</th>\n",
       "      <td>14</td>\n",
       "      <td>Maria</td>\n",
       "      <td>{'id': 21, 'number': '00110-2', 'agency': '200...</td>\n",
       "      <td>{'id': 14, 'number': '**** **** **** 0322', 'l...</td>\n",
       "      <td>[{'id': 11, 'icon': 'string', 'description': '...</td>\n",
       "      <td>[{'id': 25, 'icon': 'string', 'description': '...</td>\n",
       "    </tr>\n",
       "    <tr>\n",
       "      <th>12</th>\n",
       "      <td>15</td>\n",
       "      <td>Pyterson</td>\n",
       "      <td>{'id': 22, 'number': '0001-1', 'agency': '0001...</td>\n",
       "      <td>{'id': 15, 'number': '1234 1234 1234 1111', 'l...</td>\n",
       "      <td>[]</td>\n",
       "      <td>[{'id': 51, 'icon': 'https://digitalinnovation...</td>\n",
       "    </tr>\n",
       "    <tr>\n",
       "      <th>118</th>\n",
       "      <td>17</td>\n",
       "      <td>Arthur</td>\n",
       "      <td>{'id': 905, 'number': '**** **** **45', 'agenc...</td>\n",
       "      <td>{'id': 836, 'number': '**** **** **67', 'limit...</td>\n",
       "      <td>[{'id': 305, 'icon': 'string', 'description': ...</td>\n",
       "      <td>[{'id': 2086, 'icon': 'string', 'description':...</td>\n",
       "    </tr>\n",
       "  </tbody>\n",
       "</table>\n",
       "</div>"
      ],
      "text/plain": [
       "     id          name                                            account  \\\n",
       "6     1  Devweekerson  {'id': 1, 'number': '01.097954-4', 'agency': '...   \n",
       "10   13       anguile  {'id': 20, 'number': '00010-8', 'agency': '200...   \n",
       "11   14         Maria  {'id': 21, 'number': '00110-2', 'agency': '200...   \n",
       "12   15      Pyterson  {'id': 22, 'number': '0001-1', 'agency': '0001...   \n",
       "118  17        Arthur  {'id': 905, 'number': '**** **** **45', 'agenc...   \n",
       "\n",
       "                                                  card  \\\n",
       "6    {'id': 1, 'number': 'xxxx xxxx xxxx 1111', 'li...   \n",
       "10   {'id': 13, 'number': '**** **** **** 0112', 'l...   \n",
       "11   {'id': 14, 'number': '**** **** **** 0322', 'l...   \n",
       "12   {'id': 15, 'number': '1234 1234 1234 1111', 'l...   \n",
       "118  {'id': 836, 'number': '**** **** **67', 'limit...   \n",
       "\n",
       "                                              features  \\\n",
       "6    [{'id': 1, 'icon': 'https://digitalinnovationo...   \n",
       "10   [{'id': 10, 'icon': 'string', 'description': '...   \n",
       "11   [{'id': 11, 'icon': 'string', 'description': '...   \n",
       "12                                                  []   \n",
       "118  [{'id': 305, 'icon': 'string', 'description': ...   \n",
       "\n",
       "                                                  news  \n",
       "6    [{'id': 1, 'icon': 'https://digitalinnovationo...  \n",
       "10   [{'id': 24, 'icon': 'string', 'description': '...  \n",
       "11   [{'id': 25, 'icon': 'string', 'description': '...  \n",
       "12   [{'id': 51, 'icon': 'https://digitalinnovation...  \n",
       "118  [{'id': 2086, 'icon': 'string', 'description':...  "
      ]
     },
     "execution_count": 14,
     "metadata": {},
     "output_type": "execute_result"
    }
   ],
   "source": [
    "clients_df = clients_df.head()\n",
    "clients_df"
   ]
  },
  {
   "cell_type": "code",
   "execution_count": 15,
   "metadata": {},
   "outputs": [
    {
     "data": {
      "text/plain": [
       "[1, 13, 14, 15, 17]"
      ]
     },
     "execution_count": 15,
     "metadata": {},
     "output_type": "execute_result"
    }
   ],
   "source": [
    "lista_id = clients_df['id'].to_list()\n",
    "lista_id"
   ]
  },
  {
   "cell_type": "code",
   "execution_count": 14,
   "metadata": {},
   "outputs": [
    {
     "data": {
      "text/html": [
       "<div>\n",
       "<style scoped>\n",
       "    .dataframe tbody tr th:only-of-type {\n",
       "        vertical-align: middle;\n",
       "    }\n",
       "\n",
       "    .dataframe tbody tr th {\n",
       "        vertical-align: top;\n",
       "    }\n",
       "\n",
       "    .dataframe thead th {\n",
       "        text-align: right;\n",
       "    }\n",
       "</style>\n",
       "<table border=\"1\" class=\"dataframe\">\n",
       "  <thead>\n",
       "    <tr style=\"text-align: right;\">\n",
       "      <th></th>\n",
       "      <th>id</th>\n",
       "      <th>number</th>\n",
       "      <th>agency</th>\n",
       "      <th>balance</th>\n",
       "      <th>limit</th>\n",
       "    </tr>\n",
       "  </thead>\n",
       "  <tbody>\n",
       "    <tr>\n",
       "      <th>0</th>\n",
       "      <td>1</td>\n",
       "      <td>01.097954-4</td>\n",
       "      <td>2030</td>\n",
       "      <td>624.12</td>\n",
       "      <td>1000.0</td>\n",
       "    </tr>\n",
       "    <tr>\n",
       "      <th>1</th>\n",
       "      <td>20</td>\n",
       "      <td>00010-8</td>\n",
       "      <td>2003</td>\n",
       "      <td>500.00</td>\n",
       "      <td>1000.0</td>\n",
       "    </tr>\n",
       "    <tr>\n",
       "      <th>2</th>\n",
       "      <td>21</td>\n",
       "      <td>00110-2</td>\n",
       "      <td>2003</td>\n",
       "      <td>500.00</td>\n",
       "      <td>1000.0</td>\n",
       "    </tr>\n",
       "    <tr>\n",
       "      <th>3</th>\n",
       "      <td>22</td>\n",
       "      <td>0001-1</td>\n",
       "      <td>0001</td>\n",
       "      <td>0.00</td>\n",
       "      <td>500.0</td>\n",
       "    </tr>\n",
       "    <tr>\n",
       "      <th>4</th>\n",
       "      <td>905</td>\n",
       "      <td>**** **** **45</td>\n",
       "      <td>Banku</td>\n",
       "      <td>0.00</td>\n",
       "      <td>0.0</td>\n",
       "    </tr>\n",
       "  </tbody>\n",
       "</table>\n",
       "</div>"
      ],
      "text/plain": [
       "    id          number agency  balance   limit\n",
       "0    1     01.097954-4   2030   624.12  1000.0\n",
       "1   20         00010-8   2003   500.00  1000.0\n",
       "2   21         00110-2   2003   500.00  1000.0\n",
       "3   22          0001-1   0001     0.00   500.0\n",
       "4  905  **** **** **45  Banku     0.00     0.0"
      ]
     },
     "execution_count": 14,
     "metadata": {},
     "output_type": "execute_result"
    }
   ],
   "source": [
    "# Flatten da coluna account\n",
    "clients_account = pd.json_normalize(clients_df['account'])\n",
    "clients_account"
   ]
  },
  {
   "cell_type": "code",
   "execution_count": 15,
   "metadata": {},
   "outputs": [
    {
     "data": {
      "text/html": [
       "<div>\n",
       "<style scoped>\n",
       "    .dataframe tbody tr th:only-of-type {\n",
       "        vertical-align: middle;\n",
       "    }\n",
       "\n",
       "    .dataframe tbody tr th {\n",
       "        vertical-align: top;\n",
       "    }\n",
       "\n",
       "    .dataframe thead th {\n",
       "        text-align: right;\n",
       "    }\n",
       "</style>\n",
       "<table border=\"1\" class=\"dataframe\">\n",
       "  <thead>\n",
       "    <tr style=\"text-align: right;\">\n",
       "      <th></th>\n",
       "      <th>id</th>\n",
       "      <th>number</th>\n",
       "      <th>limit</th>\n",
       "    </tr>\n",
       "  </thead>\n",
       "  <tbody>\n",
       "    <tr>\n",
       "      <th>0</th>\n",
       "      <td>1</td>\n",
       "      <td>xxxx xxxx xxxx 1111</td>\n",
       "      <td>2000.0</td>\n",
       "    </tr>\n",
       "    <tr>\n",
       "      <th>1</th>\n",
       "      <td>13</td>\n",
       "      <td>**** **** **** 0112</td>\n",
       "      <td>500.0</td>\n",
       "    </tr>\n",
       "    <tr>\n",
       "      <th>2</th>\n",
       "      <td>14</td>\n",
       "      <td>**** **** **** 0322</td>\n",
       "      <td>500.0</td>\n",
       "    </tr>\n",
       "    <tr>\n",
       "      <th>3</th>\n",
       "      <td>15</td>\n",
       "      <td>1234 1234 1234 1111</td>\n",
       "      <td>1000.0</td>\n",
       "    </tr>\n",
       "    <tr>\n",
       "      <th>4</th>\n",
       "      <td>836</td>\n",
       "      <td>**** **** **67</td>\n",
       "      <td>0.0</td>\n",
       "    </tr>\n",
       "  </tbody>\n",
       "</table>\n",
       "</div>"
      ],
      "text/plain": [
       "    id               number   limit\n",
       "0    1  xxxx xxxx xxxx 1111  2000.0\n",
       "1   13  **** **** **** 0112   500.0\n",
       "2   14  **** **** **** 0322   500.0\n",
       "3   15  1234 1234 1234 1111  1000.0\n",
       "4  836       **** **** **67     0.0"
      ]
     },
     "execution_count": 15,
     "metadata": {},
     "output_type": "execute_result"
    }
   ],
   "source": [
    "# Flatten da coluna card\n",
    "clients_card = pd.json_normalize(clients_df['card'])\n",
    "clients_card"
   ]
  },
  {
   "cell_type": "code",
   "execution_count": 35,
   "metadata": {},
   "outputs": [
    {
     "data": {
      "text/plain": [
       "'leonardo fogaca'"
      ]
     },
     "execution_count": 35,
     "metadata": {},
     "output_type": "execute_result"
    }
   ],
   "source": [
    "teste = clients[0]\n",
    "teste['name']"
   ]
  },
  {
   "cell_type": "code",
   "execution_count": 41,
   "metadata": {},
   "outputs": [],
   "source": [
    "# API ChatGpt\n",
    "import os\n",
    "from getpass import getpass\n",
    "\n",
    "api_key = getpass()\n"
   ]
  },
  {
   "cell_type": "code",
   "execution_count": null,
   "metadata": {},
   "outputs": [],
   "source": [
    "import openai\n",
    "\n",
    "openai.api_key = api_key\n",
    "\n",
    "def gerenate_ai_news(user):\n",
    "    completion = openai.ChatCompletion.create(\n",
    "        model=\"gpt-3.5-turbo\",\n",
    "        messages=[\n",
    "            {\n",
    "                \"role\": \"system\",\n",
    "                \"content\": \"Você é um especialista em marketing bancário.\"\n",
    "            },\n",
    "            {\n",
    "                \"role\": \"user\",\n",
    "                \"content\": f\"Crie uma mensagem para {user['name']} sobre a importância dos investimentos (máximo 100 caracteres)\"\n",
    "            }\n",
    "        ]\n",
    "    )\n",
    "    return completion.choices[0].message.content.strip('\\\"')\n",
    "\n",
    "\n",
    "for user in clients[0:4]:\n",
    "    news = gerenate_ai_news(user)\n",
    "    print(news)"
   ]
  },
  {
   "cell_type": "code",
   "execution_count": null,
   "metadata": {},
   "outputs": [],
   "source": []
  }
 ],
 "metadata": {
  "kernelspec": {
   "display_name": "Python 3",
   "language": "python",
   "name": "python3"
  },
  "language_info": {
   "codemirror_mode": {
    "name": "ipython",
    "version": 3
   },
   "file_extension": ".py",
   "mimetype": "text/x-python",
   "name": "python",
   "nbconvert_exporter": "python",
   "pygments_lexer": "ipython3",
   "version": "3.10.11"
  },
  "orig_nbformat": 4
 },
 "nbformat": 4,
 "nbformat_minor": 2
}
