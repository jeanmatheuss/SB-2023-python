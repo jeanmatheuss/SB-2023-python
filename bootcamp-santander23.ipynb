{
 "cells": [
  {
   "cell_type": "markdown",
   "metadata": {},
   "source": [
    "![logo](https://github.com/jeanmatheuss/SB-2023-python/blob/main/imgs/logo.jpg?raw=true)\n",
    "\n",
    "---\n",
    "## **Projeto 1** | Explorando IA Generativa em Pipeline de ETL com Python\n",
    "[Jean Matheus](https://www.linkedin.com/in/jean-matheus-sm/)    \n",
    "[Projeto no GitHub](https://github.com/jeanmatheuss/SB-2023-python)\n",
    "\n",
    "---\n"
   ]
  },
  {
   "cell_type": "markdown",
   "metadata": {},
   "source": [
    "# Personalização de Mensagens de Marketing com IA Generativa"
   ]
  },
  {
   "cell_type": "markdown",
   "metadata": {},
   "source": [
    "## Descrição\n",
    "Este projeto foi desenvolvido como parte do Santander Bootcamp 2023 - Ciência de Dados com Python, com o obejtivo de envovler os clientes de maneira mais personalizada usando o poder da Inteligência Artificial Generativa. \n",
    "\n",
    "Para isso vamos coletar os dados dos clientes em uma [API](https://sdw-2023-prd.up.railway.app/swagger-ui/index.html) desenvolvida na Santander DevWeek 2023, armazena-los numa lista e a partir dessa lista fazer o carregamento da mensagem personalizada."
   ]
  },
  {
   "cell_type": "markdown",
   "metadata": {},
   "source": [
    "## Contexto\n",
    "Como cientista de dados no Santander, nossa tarefa era melhorar o envolvimento dos clientes por meio de mensagens de marketing altamente personalizadas.    \n",
    "O objetivo é utilizar  a Inteligência Artificial Generativa para criar mensagens que ressoem com cada cliente individualmente.\n",
    "\n",
    "Aqui estão as estapas que seguiremos:\n",
    "1. Extração e Obtenção de Dados dos Clientes\n",
    "2. Geração de Mensagens Personalizadas\n",
    "3. Atualização de Dados dos Clientes"
   ]
  },
  {
   "cell_type": "markdown",
   "metadata": {},
   "source": [
    "### Importando os Pacotes e Bibliotecas"
   ]
  },
  {
   "cell_type": "code",
   "execution_count": 1,
   "metadata": {},
   "outputs": [],
   "source": [
    "import json\n",
    "import pandas as pd\n",
    "import seaborn as sns\n",
    "import numpy as np\n",
    "import requests"
   ]
  },
  {
   "cell_type": "markdown",
   "metadata": {},
   "source": [
    "## 1. Extração dos Dados"
   ]
  },
  {
   "cell_type": "code",
   "execution_count": 2,
   "metadata": {},
   "outputs": [],
   "source": [
    "# URL da API para a consulta dos clientes\n",
    "\n",
    "url = 'https://sdw-2023-prd.up.railway.app'"
   ]
  },
  {
   "cell_type": "code",
   "execution_count": 3,
   "metadata": {},
   "outputs": [],
   "source": [
    "# Criando a lista de clientes diretamente da API\n",
    "\n",
    "response = requests.get(f'{url}/users')\n",
    "clients = response.json() if response.status_code == 200 else None\n"
   ]
  },
  {
   "cell_type": "code",
   "execution_count": 35,
   "metadata": {},
   "outputs": [
    {
     "name": "stdout",
     "output_type": "stream",
     "text": [
      "{\n",
      "  \"id\": 1,\n",
      "  \"name\": \"Devweekerson\",\n",
      "  \"account\": {\n",
      "    \"id\": 1,\n",
      "    \"number\": \"01.097954-4\",\n",
      "    \"agency\": \"2030\",\n",
      "    \"balance\": 624.12,\n",
      "    \"limit\": 1000.0\n",
      "  },\n",
      "  \"card\": {\n",
      "    \"id\": 1,\n",
      "    \"number\": \"xxxx xxxx xxxx 1111\",\n",
      "    \"limit\": 2000.0\n",
      "  },\n",
      "  \"features\": [\n",
      "    {\n",
      "      \"id\": 1,\n",
      "      \"icon\": \"https://digitalinnovationone.github.io/santander-dev-week-2023-api/icons/pix.svg\",\n",
      "      \"description\": \"PIX\"\n",
      "    },\n",
      "    {\n",
      "      \"id\": 2,\n",
      "      \"icon\": \"https://digitalinnovationone.github.io/santander-dev-week-2023-api/icons/pay.svg\",\n",
      "      \"description\": \"Pagar\"\n",
      "    },\n",
      "    {\n",
      "      \"id\": 3,\n",
      "      \"icon\": \"https://digitalinnovationone.github.io/santander-dev-week-2023-api/icons/transfer.svg\",\n",
      "      \"description\": \"Transferir\"\n",
      "    },\n",
      "    {\n",
      "      \"id\": 4,\n",
      "      \"icon\": \"https://digitalinnovationone.github.io/santander-dev-week-2023-api/icons/account.svg\",\n",
      "      \"description\": \"Conta Corrente\"\n",
      "    },\n",
      "    {\n",
      "      \"id\": 5,\n",
      "      \"icon\": \"https://digitalinnovationone.github.io/santander-dev-week-2023-api/icons/cards.svg\",\n",
      "      \"description\": \"Cart\\u00f5es\"\n",
      "    }\n",
      "  ],\n",
      "  \"news\": [\n",
      "    {\n",
      "      \"id\": 1,\n",
      "      \"icon\": \"https://digitalinnovationone.github.io/santander-dev-week-2023-api/icons/credit.svg\",\n",
      "      \"description\": \"O Santander tem solu\\u00e7\\u00f5es de cr\\u00e9dito sob medida pra voc\\u00ea. Confira!\"\n",
      "    },\n",
      "    {\n",
      "      \"id\": 2,\n",
      "      \"icon\": \"https://digitalinnovationone.github.io/santander-dev-week-2023-api/icons/insurance.svg\",\n",
      "      \"description\": \"Santander Seguro Casa, seu faz-tudo. Mais de 50 servi\\u00e7os pra voc\\u00ea. Confira!\"\n",
      "    },\n",
      "    {\n",
      "      \"icon\": \"https://raw.githubusercontent.com/digitalinnovationone/santander-dev-week-2023-api/665804c8231b32923b03b30ab832ccee33cf2cc3/docs/icons/credit.svg\",\n",
      "      \"description\": \"Invista no nosso banco e alcance seus objetivos financeiros! Com um limite de 1000.0, aproveite as oportunidades de crescimento. #InvestimentosBanc\\u00e1rios\"\n",
      "    }\n",
      "  ]\n",
      "}\n"
     ]
    }
   ],
   "source": [
    "# Vizualizando a estrutura e o primeiro cliente da nossa lista\n",
    "\n",
    "print(json.dumps(clients[0], indent=2))"
   ]
  },
  {
   "cell_type": "markdown",
   "metadata": {},
   "source": [
    "## 3. Geração de Mensagens Personalizadas"
   ]
  },
  {
   "cell_type": "code",
   "execution_count": 4,
   "metadata": {},
   "outputs": [],
   "source": [
    "# Colocando nossa chave da API do ChatGPT\n",
    "import os\n",
    "from getpass import getpass\n",
    "\n",
    "api_key = getpass(\"Insira aqui sua API key da OpenIA:\")\n"
   ]
  },
  {
   "cell_type": "code",
   "execution_count": 27,
   "metadata": {},
   "outputs": [],
   "source": [
    "# Gerando mensagem através da API do ChatGTP\n",
    "\n",
    "import openai\n",
    "import time\n",
    "\n",
    "openai.api_key = api_key\n",
    "\n",
    "def gerenate_ai_news(user, limit):\n",
    "    completion = openai.ChatCompletion.create(\n",
    "        model=\"gpt-3.5-turbo\",\n",
    "        messages=[\n",
    "            {\n",
    "                \"role\": \"system\",\n",
    "                \"content\": \"Você é um especialista em marketing e em marketing bancário.\"\n",
    "            },\n",
    "            {\n",
    "                \"role\": \"user\",\n",
    "                \"content\": f\"Crie uma mensagem para {user['name']} sobre a importância dos investimentos em nosso banco, que possuí um limite de: R${limit['limit']} (máximo 140 caracteres)\"\n",
    "            }\n",
    "        ]\n",
    "    )\n",
    "    return completion.choices[0].message.content.strip('\\\"')\n"
   ]
  },
  {
   "cell_type": "code",
   "execution_count": 28,
   "metadata": {},
   "outputs": [
    {
     "name": "stdout",
     "output_type": "stream",
     "text": [
      "Paulo teste1, invista no nosso banco e potencialize seu dinheiro! Alcançar seus objetivos financeiros nunca foi tão fácil. #Investimentos #Banco\n",
      "Invista seu dinheiro com segurança e rentabilidade no nosso banco. Potencialize seus ganhos com o limite de R$10.000.0.#InvistaConosco\n",
      "Investimentos no nosso banco: potencialize seu dinheiro com segurança e rentabilidade garantida. Limite de R$10.000,00. Invista já!\n"
     ]
    }
   ],
   "source": [
    "# Escolhendo os 3 últimos clientes do banco de dados da API, gerando a mensagem do ChatGPT através da função 'gerenate_ai_news' \n",
    "for user in clients[-3:]:\n",
    "    limit = user['account']\n",
    "    news = gerenate_ai_news(user, limit)\n",
    "    print(news)\n",
    "    user['news'].append({\n",
    "        \"icon\": \"https://raw.githubusercontent.com/digitalinnovationone/santander-dev-week-2023-api/665804c8231b32923b03b30ab832ccee33cf2cc3/docs/icons/credit.svg\",\n",
    "        \"description\": news\n",
    "    })\n"
   ]
  },
  {
   "cell_type": "markdown",
   "metadata": {},
   "source": [
    "## 4. Atualização de Dados dos Clientes"
   ]
  },
  {
   "cell_type": "code",
   "execution_count": 29,
   "metadata": {},
   "outputs": [
    {
     "name": "stdout",
     "output_type": "stream",
     "text": [
      "User Paulo teste1 updated: True!\n",
      "User Paulo teste2 updated: True!\n",
      "User Paulo teste3 updated: True!\n"
     ]
    }
   ],
   "source": [
    "# Fazendo o upload para API com a lista 'news' atualizada, com a nova mensagem gerada pelo ChatGPT, em caso de erro ele mostra o erro\n",
    "\n",
    "def uptade_user(user):\n",
    "    response = requests.put(f\"{url}/users/{user['id']}\", json=user)\n",
    "\n",
    "    return print(f\"User {user['name']} updated: True!\") if response.status_code == 200  else print(f\"User {user['name']} updated: False! Error: {response.status_code}\")\n",
    "\n",
    "for user in clients[-3:]:\n",
    "    success = uptade_user(user)\n"
   ]
  },
  {
   "cell_type": "code",
   "execution_count": null,
   "metadata": {},
   "outputs": [],
   "source": []
  }
 ],
 "metadata": {
  "kernelspec": {
   "display_name": "Python 3",
   "language": "python",
   "name": "python3"
  },
  "language_info": {
   "codemirror_mode": {
    "name": "ipython",
    "version": 3
   },
   "file_extension": ".py",
   "mimetype": "text/x-python",
   "name": "python",
   "nbconvert_exporter": "python",
   "pygments_lexer": "ipython3",
   "version": "3.10.11"
  },
  "orig_nbformat": 4
 },
 "nbformat": 4,
 "nbformat_minor": 2
}
